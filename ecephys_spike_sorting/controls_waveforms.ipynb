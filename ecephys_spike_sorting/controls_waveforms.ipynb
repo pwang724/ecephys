{
 "cells": [
  {
   "cell_type": "code",
   "execution_count": 1,
   "outputs": [],
   "source": [
    "%load_ext autoreload\n",
    "%autoreload 2\n",
    "\n",
    "import os\n",
    "import glob\n",
    "import sys\n",
    "import scipy.stats\n",
    "import matplotlib.pyplot as plt\n",
    "import numpy as np\n",
    "import phylib.io.model\n",
    "import seaborn as sns\n",
    "\n",
    "import configs\n",
    "from utils import styleutils, ioutils, figutils\n",
    "\n",
    "sns.reset_defaults()\n",
    "styleutils.update_mpl_params(fontsize=14, linewidth=1)\n",
    "%matplotlib inline"
   ],
   "metadata": {
    "collapsed": false
   }
  },
  {
   "cell_type": "code",
   "execution_count": 2,
   "outputs": [
    {
     "name": "stdout",
     "output_type": "stream",
     "text": [
      "['D:\\\\NPIX\\\\NPIX1\\\\2023.11.12\\\\catgt_2023_11_12_all_g1']\n"
     ]
    }
   ],
   "source": [
    "mouse = configs.NPIX1\n",
    "mouse_path = os.path.join(configs.BASE_PATH, mouse.path)\n",
    "dates = list(mouse.exp_params.keys())\n",
    "trial_duration = mouse.duration\n",
    "\n",
    "base_folders = []\n",
    "catgt_folders = []\n",
    "phy_folders = []\n",
    "for date in dates:\n",
    "    try:\n",
    "        base_folders.append(os.path.join(mouse_path, date))\n",
    "        catgt_folder = glob.glob(os.path.join(mouse_path, date, 'catgt*'))[0]\n",
    "        catgt_folders.append(catgt_folder)\n",
    "\n",
    "        catgt_imec_folder = glob.glob(os.path.join(catgt_folder, '*imec0'))[0]\n",
    "        data_folder = os.path.join(catgt_imec_folder, 'imec0_ks2')\n",
    "        base_folders.append(os.path.join(mouse_path, date))\n",
    "        phy_folders.append(data_folder)\n",
    "    except:\n",
    "        pass\n",
    "\n",
    "print(catgt_folders)"
   ],
   "metadata": {
    "collapsed": false
   }
  },
  {
   "cell_type": "code",
   "execution_count": 3,
   "outputs": [
    {
     "name": "stdout",
     "output_type": "stream",
     "text": [
      "D:\\NPIX\\NPIX1\\2023.11.12\\catgt_2023_11_12_all_g1\\2023_11_12_all_g1_imec0\\imec0_ks2\n"
     ]
    }
   ],
   "source": [
    "# load data\n",
    "catgt_folder = catgt_folders[0]\n",
    "base_folder = base_folders[0]\n",
    "phy_folder = phy_folders[0]\n",
    "processed_folder = os.path.join(base_folder, 'processed')\n",
    "fig_folder = os.path.join(base_folder, 'FIGURES')\n",
    "print(phy_folder)\n",
    "\n",
    "package = ioutils.pload(os.path.join(processed_folder, 'package'))\n",
    "fs = package['fs']\n",
    "spike_trains_dict = {k: v for k, v in package['spike_trains_dict_after_rp'].items()}\n",
    "channel_pos = np.load(os.path.join(phy_folder, 'channel_positions.npy'))\n",
    "channel_map = np.load(os.path.join(phy_folder, 'channel_map.npy')).flatten()\n",
    "assert np.array_equal(channel_map, np.arange(len(channel_map)))\n",
    "\n",
    "model = phylib.io.model.load_model(os.path.join(phy_folder, 'params.py'))"
   ],
   "metadata": {
    "collapsed": false
   }
  },
  {
   "cell_type": "code",
   "execution_count": 4,
   "outputs": [
    {
     "name": "stdout",
     "output_type": "stream",
     "text": [
      "Figure saved at: D:\\NPIX\\NPIX1\\2023.11.12\\FIGURES\\controls\\cs_waveforms\\CS_231\n",
      "Figure saved at: D:\\NPIX\\NPIX1\\2023.11.12\\FIGURES\\controls\\cs_waveforms\\CS_242\n",
      "Figure saved at: D:\\NPIX\\NPIX1\\2023.11.12\\FIGURES\\controls\\cs_waveforms\\CS_243\n",
      "Figure saved at: D:\\NPIX\\NPIX1\\2023.11.12\\FIGURES\\controls\\cs_waveforms\\CS_244\n",
      "Figure saved at: D:\\NPIX\\NPIX1\\2023.11.12\\FIGURES\\controls\\cs_waveforms\\CS_415\n",
      "Figure saved at: D:\\NPIX\\NPIX1\\2023.11.12\\FIGURES\\controls\\cs_waveforms\\CS_423\n",
      "Figure saved at: D:\\NPIX\\NPIX1\\2023.11.12\\FIGURES\\controls\\cs_waveforms\\CS_473\n",
      "Figure saved at: D:\\NPIX\\NPIX1\\2023.11.12\\FIGURES\\controls\\cs_waveforms\\CS_476\n",
      "Figure saved at: D:\\NPIX\\NPIX1\\2023.11.12\\FIGURES\\controls\\cs_waveforms\\CS_477\n",
      "Figure saved at: D:\\NPIX\\NPIX1\\2023.11.12\\FIGURES\\controls\\cs_waveforms\\CS_478\n"
     ]
    }
   ],
   "source": [
    "'''Manual confirmation that refractory period requirement and other modifications makes sense\n",
    "\n",
    "- plot CS waveforms before and after spike filtering\n",
    "'''\n",
    "\n",
    "n_waveforms_to_plot = 20\n",
    "xscale = .3\n",
    "yscale = .04\n",
    "xg = 2\n",
    "\n",
    "sf = os.path.join(fig_folder, 'controls', f'cs_waveforms')\n",
    "os.makedirs(sf, exist_ok=True)\n",
    "\n",
    "cs_units = package['celltypes_parcellated_dict']['cs']\n",
    "for m, cluster_id in enumerate(cs_units):\n",
    "\n",
    "    waveforms_before = model.get_cluster_spike_waveforms(cluster_id)\n",
    "    test_mask = model.get_cluster_spikes(cluster_id)\n",
    "\n",
    "    spikes_before = model.spike_samples[cluster_id == model.spike_clusters]\n",
    "    spikes_after = spike_trains_dict[cluster_id]\n",
    "    filter_mask = np.isin(spikes_before, spikes_after)\n",
    "    waveforms_after = waveforms_before[filter_mask]\n",
    "\n",
    "    channel_ids = model.get_cluster_channels(cluster_id)\n",
    "    xy_locs = channel_pos[channel_ids]\n",
    "    list_of_waveforms = [waveforms_before, waveforms_after]\n",
    "\n",
    "    f, axs = figutils.pretty_fig(figsize=(16, 10), rows=2, cols=2, sharex=True, sharey=True)\n",
    "    for ix, waveforms in enumerate(list_of_waveforms):\n",
    "        for r, individual in enumerate([False, True]):\n",
    "            n_spikes, n_samples, n_channels_loc = waveforms.shape\n",
    "            plt.sca(axs[ix, r])\n",
    "            for ch in range(n_channels_loc):\n",
    "                pos = xy_locs[ch]\n",
    "\n",
    "                if individual:\n",
    "                    waveform_ixs = np.linspace(0, waveforms.shape[0] - 1, n_waveforms_to_plot).astype(int)\n",
    "                    y = waveforms[waveform_ixs, :, ch].T\n",
    "                    y = y * yscale + pos[1]\n",
    "                    x = np.arange(len(y))\n",
    "                    x = np.tile(x.reshape(-1, 1), reps=[1, y.shape[1]])\n",
    "                    x = x * xscale + pos[0]\n",
    "                    plt.plot(x, y, color='r', alpha=4/n_waveforms_to_plot)\n",
    "                else:\n",
    "                    y = waveforms[:, :, ch]\n",
    "                    y = y * yscale + pos[1]\n",
    "                    ym = np.mean(y, axis=0)\n",
    "                    yse = np.std(y, axis=0)\n",
    "                    x = np.arange(len(ym))\n",
    "                    x = x * xscale + pos[0]\n",
    "\n",
    "                    plt.plot(x, ym, color='r', alpha=1)\n",
    "                    plt.fill_between(x, ym-yse, ym+yse, color='r', alpha=0.5)\n",
    "                plt.text(pos[0]-5, pos[1], f'{channel_ids[ch]}')\n",
    "            xlim = plt.xlim()\n",
    "            plt.xlim([xlim[0]-xg, xlim[1]+xg])\n",
    "            plt.axis('off')\n",
    "            sns.despine(bottom=True, left=True)\n",
    "    plt.suptitle(f'CS: {cluster_id}, Fraction filtered: {1 - filter_mask.sum()/len(filter_mask):0.3f}')\n",
    "    plt.tight_layout()\n",
    "    figutils.save_fig(sf, f'CS_{cluster_id}', show=False, close=True)"
   ],
   "metadata": {
    "collapsed": false
   }
  },
  {
   "cell_type": "code",
   "execution_count": 5,
   "outputs": [
    {
     "name": "stdout",
     "output_type": "stream",
     "text": [
      "Figure saved at: D:\\NPIX\\NPIX1\\2023.11.12\\FIGURES\\controls\\match_waveforms\\match_0_cs_423_ss_250\n",
      "Figure saved at: D:\\NPIX\\NPIX1\\2023.11.12\\FIGURES\\controls\\match_waveforms\\match_1_cs_473_ss_426\n"
     ]
    }
   ],
   "source": [
    "'''\n",
    "Confirm that high correlations between CSs and SSs are not due to similarities between their waveforms\n",
    "\n",
    "- plot waveforms nicely\n",
    "- TODO: come up with some metric to assess similarity of waveforms vs similarity of CS / SS responses\n",
    "'''\n",
    "\n",
    "n_waveforms_to_plot = 20\n",
    "xscale = .3\n",
    "yscale = .04\n",
    "xg = 2\n",
    "\n",
    "sf = os.path.join(fig_folder, 'controls', f'match_waveforms')\n",
    "os.makedirs(sf, exist_ok=True)\n",
    "\n",
    "matches = package['matches']\n",
    "for m, match in enumerate(matches):\n",
    "    f, axs = figutils.pretty_fig(figsize=(16, 10), rows=2, cols=2, sharex=True, sharey=True)\n",
    "    for ix, cluster_id in enumerate(match):\n",
    "        waveforms = model.get_cluster_spike_waveforms(cluster_id)\n",
    "        test_mask = model.get_cluster_spikes(cluster_id)\n",
    "\n",
    "        spikes_before = model.spike_samples[cluster_id == model.spike_clusters]\n",
    "        spikes_after = spike_trains_dict[cluster_id]\n",
    "        filter_mask = np.isin(spikes_before, spikes_after)\n",
    "        waveforms = waveforms[filter_mask]\n",
    "\n",
    "        channel_ids = model.get_cluster_channels(cluster_id)\n",
    "        n_spikes, n_samples, n_channels_loc = waveforms.shape\n",
    "        xy_locs = channel_pos[channel_ids]\n",
    "        color = 'r' if ix == 0 else 'k'\n",
    "\n",
    "        for r, individual in enumerate([False, True]):\n",
    "            plt.sca(axs[r, ix])\n",
    "            for ch in range(n_channels_loc):\n",
    "                pos = xy_locs[ch]\n",
    "\n",
    "                if individual:\n",
    "                    waveform_ixs = np.linspace(0, waveforms.shape[0] - 1, n_waveforms_to_plot).astype(int)\n",
    "                    y = waveforms[waveform_ixs, :, ch].T\n",
    "                    y = y * yscale + pos[1]\n",
    "                    x = np.arange(len(y))\n",
    "                    x = np.tile(x.reshape(-1, 1), reps=[1, y.shape[1]])\n",
    "                    x = x * xscale + pos[0]\n",
    "                    plt.plot(x, y, color=color, alpha=4/n_waveforms_to_plot)\n",
    "                else:\n",
    "                    y = waveforms[:, :, ch]\n",
    "                    y = y * yscale + pos[1]\n",
    "                    ym = np.mean(y, axis=0)\n",
    "                    # yse = scipy.stats.sem(y, axis=0)\n",
    "                    yse = np.std(y, axis=0)\n",
    "\n",
    "                    x = np.arange(len(ym))\n",
    "                    x = x * xscale + pos[0]\n",
    "\n",
    "                    plt.plot(x, ym, color=color, alpha=1)\n",
    "                    plt.fill_between(x, ym-yse, ym+yse, color=color, alpha=0.5)\n",
    "                plt.text(pos[0]-5, pos[1], f'{channel_ids[ch]}')\n",
    "            xlim = plt.xlim()\n",
    "            plt.xlim([xlim[0]-xg, xlim[1]+xg])\n",
    "            plt.axis('off')\n",
    "            sns.despine(bottom=True, left=True)\n",
    "    plt.suptitle(f'Match: {m}, CS: {match[0]}, SS: {match[1]}')\n",
    "    plt.tight_layout()\n",
    "    figutils.save_fig(sf, f'match_{m}_cs_{match[0]}_ss_{match[1]}', show=False, close=True)"
   ],
   "metadata": {
    "collapsed": false
   }
  },
  {
   "cell_type": "code",
   "execution_count": 6,
   "outputs": [],
   "source": [
    "# _find_best_channels(self, template, amplitude_threshold=None)\n",
    "# spike_ids = self.get_cluster_spikes(cluster_id)\n",
    "# return self._get_template_from_spikes(spike_ids).channel_ids\n"
   ],
   "metadata": {
    "collapsed": false
   }
  }
 ],
 "metadata": {
  "kernelspec": {
   "display_name": "Python 3",
   "language": "python",
   "name": "python3"
  },
  "language_info": {
   "codemirror_mode": {
    "name": "ipython",
    "version": 2
   },
   "file_extension": ".py",
   "mimetype": "text/x-python",
   "name": "python",
   "nbconvert_exporter": "python",
   "pygments_lexer": "ipython2",
   "version": "2.7.6"
  }
 },
 "nbformat": 4,
 "nbformat_minor": 0
}
