{
 "cells": [
  {
   "cell_type": "code",
   "execution_count": 185,
   "metadata": {
    "collapsed": true
   },
   "outputs": [
    {
     "name": "stdout",
     "output_type": "stream",
     "text": [
      "The autoreload extension is already loaded. To reload it, use:\n",
      "  %reload_ext autoreload\n"
     ]
    }
   ],
   "source": [
    "%load_ext autoreload\n",
    "%autoreload 2\n",
    "\n",
    "import os\n",
    "import glob\n",
    "import numpy as np\n",
    "import pandas as pd\n",
    "import seaborn as sns\n",
    "from collections import defaultdict\n",
    "from scipy.signal import savgol_filter\n",
    "import matplotlib.pyplot as plt\n",
    "\n",
    "from utils import ioutils\n",
    "from utils import figutils\n",
    "from utils import styleutils\n",
    "from utils import phy_utils\n",
    "from utils import psth_utils\n",
    "from utils import sort_utils\n",
    "import configs\n",
    "\n",
    "sns.reset_defaults()\n",
    "styleutils.update_mpl_params(fontsize=14, linewidth=1)\n",
    "%matplotlib inline"
   ]
  },
  {
   "cell_type": "code",
   "execution_count": 186,
   "outputs": [
    {
     "data": {
      "text/plain": "['D:\\\\NPIX\\\\NPIX1\\\\2023.11.10\\\\catgt_2023_11_10_all_g0']"
     },
     "execution_count": 186,
     "metadata": {},
     "output_type": "execute_result"
    }
   ],
   "source": [
    "mouse = configs.NPIX1\n",
    "mouse_path = os.path.join(configs.BASE_PATH, mouse.path)\n",
    "dates = list(mouse.exp_params.keys())\n",
    "trial_duration = mouse.duration\n",
    "\n",
    "# constants\n",
    "celltypes_names = [\n",
    "    'ss',\n",
    "    '_ss', # cliques\n",
    "    'cs',\n",
    "    'mli',\n",
    "    '>40']\n",
    "fs = 30000\n",
    "ccg_win_size = 80 # ms\n",
    "ccg_bin_size = 1 # ms\n",
    "ccg_smooth_win = 3 # ms\n",
    "default_refractory_period = 1 # ms\n",
    "\n",
    "# psth constants\n",
    "psthb_cs = 1000\n",
    "psthb = 250\n",
    "psthw = np.array([0, trial_duration * 1000])\n",
    "xticks = np.array([5, 7, 9, 10])\n",
    "xticklabels = ['O', '+2', '', 'W']\n",
    "times_in_bins = np.array(xticks) / (psthb * 1e-3)\n",
    "xlabel='Time (s)'\n",
    "ylabel='FR (spk/s)'\n",
    "stim_colors = ['darkgreen', 'green', 'red', 'magenta', 'turquoise']\n",
    "\n",
    "base_folders = []\n",
    "catgt_folders = []\n",
    "phy_folders = []\n",
    "for date in dates:\n",
    "    try:\n",
    "        base_folders.append(os.path.join(mouse_path, date))\n",
    "        catgt_folder = glob.glob(os.path.join(mouse_path, date, 'catgt*'))[0]\n",
    "        catgt_folders.append(catgt_folder)\n",
    "\n",
    "        catgt_imec_folder = glob.glob(os.path.join(catgt_folder, '*imec0'))[0]\n",
    "        data_folder = os.path.join(catgt_imec_folder, 'imec0_ks2')\n",
    "        phy_folders.append(data_folder)\n",
    "    except:\n",
    "        pass\n",
    "\n",
    "catgt_folders"
   ],
   "metadata": {
    "collapsed": false
   }
  },
  {
   "cell_type": "code",
   "execution_count": 187,
   "outputs": [],
   "source": [
    "catgt_folder = catgt_folders[0]\n",
    "base_folder = base_folders[0]\n",
    "phy_folder = phy_folders[0]\n",
    "behavior_folder = os.path.join(base_folder, 'behavior')\n",
    "processed_folder = os.path.join(base_folder, 'processed')\n",
    "fig_folder = os.path.join(base_folder, 'FIGURES')"
   ],
   "metadata": {
    "collapsed": false
   }
  },
  {
   "cell_type": "code",
   "execution_count": 188,
   "outputs": [],
   "source": [
    "package = ioutils.pload(os.path.join(processed_folder, 'package'))\n",
    "\n",
    "channel_pos = np.load(os.path.join(phy_folder, 'channel_positions.npy'))\n",
    "channel_map = np.load(os.path.join(phy_folder, 'channel_map.npy')).flatten()\n",
    "assert np.array_equal(channel_map, np.arange(len(channel_map)))\n",
    "metrics = pd.read_csv(os.path.join(phy_folder, 'metrics.csv'))\n",
    "cluster_ids = metrics['cluster_id'].to_numpy()\n",
    "cluster_depth = channel_pos[metrics['peak_channel'].to_numpy(), 1]"
   ],
   "metadata": {
    "collapsed": false
   }
  },
  {
   "cell_type": "code",
   "execution_count": 189,
   "outputs": [
    {
     "name": "stdout",
     "output_type": "stream",
     "text": [
      "ISO: 20\n",
      "PIN: 20\n",
      "EUY: 20\n",
      "HEP: 20\n",
      "US: 20\n"
     ]
    },
    {
     "data": {
      "text/plain": "dict_keys(['fs', 'cluster_ids', 'celltypes_parcellated_dict', 'matches', 'spike_trains_dict_after_rp', 'spike_amp_dict_after_rp', 'spike_trains_dict_before_rp', 'spike_amp_dict_before_rp'])"
     },
     "execution_count": 189,
     "metadata": {},
     "output_type": "execute_result"
    }
   ],
   "source": [
    "''' load data'''\n",
    "# get timing of trials per stim condition\n",
    "onset_files = glob.glob(os.path.join(catgt_folder, r'*xa_1*'))\n",
    "offset_files = glob.glob(os.path.join(catgt_folder, r'*xia_1*'))\n",
    "assert len(onset_files) == 1 and len(offset_files) == 1\n",
    "\n",
    "onsets = np.loadtxt(onset_files[0])\n",
    "offsets = np.loadtxt(offset_files[0])\n",
    "# onsets = np.delete(onsets, 25) #npix1, 11/14\n",
    "# offsets = np.delete(offsets, 25) #npix1, 11/14\n",
    "# onsets = onsets[np.r_[True, np.diff(onsets) > 10]] #npix1, 11/15\n",
    "assert len(onsets) == len(offsets)\n",
    "n_trials_nidaq = len(onsets)\n",
    "\n",
    "stimuli = list(mouse.stimuli_params.keys())\n",
    "npy_files = sorted(glob.glob(os.path.join(behavior_folder, f'*.npy')))\n",
    "n_trials_npy = len(npy_files)\n",
    "assert n_trials_npy == n_trials_nidaq, print(n_trials_npy, n_trials_nidaq)\n",
    "\n",
    "stim_epochs_dict = {}\n",
    "for stim in stimuli:\n",
    "    trial_ixs = np.where([stim in x for x in npy_files])[0]\n",
    "    if len(trial_ixs):\n",
    "        stim_onsets = onsets[trial_ixs]\n",
    "        stim_offsets = offsets[trial_ixs]\n",
    "        stim_epochs = np.array([stim_onsets, stim_offsets])\n",
    "        stim_epochs_dict[stim] = stim_epochs.T[:, 0]\n",
    "stim_names = [x for x in stim_epochs_dict.keys()]\n",
    "stim_trial_times = [x for x in stim_epochs_dict.values()]\n",
    "\n",
    "for k, v in stim_epochs_dict.items():\n",
    "    print(f'{k}: {v.shape[0]}')\n",
    "\n",
    "package = ioutils.pload(os.path.join(processed_folder, 'package'))\n",
    "fs = package['fs']\n",
    "matches = package['matches']\n",
    "spike_trains_dict = {k: v/fs for k, v in package['spike_trains_dict_after_rp'].items()}\n",
    "\n",
    "package.keys()"
   ],
   "metadata": {
    "collapsed": false
   }
  },
  {
   "cell_type": "code",
   "execution_count": null,
   "outputs": [],
   "source": [
    "'''\n",
    "TODOS:\n",
    "\n",
    "- raster plot SS rate and CS occurrences\n",
    "\n",
    "- analyze cross-correlation between SS and CS, compare vs shuffled\n",
    "'''\n"
   ],
   "metadata": {
    "collapsed": false
   }
  },
  {
   "cell_type": "code",
   "execution_count": 379,
   "outputs": [
    {
     "name": "stdout",
     "output_type": "stream",
     "text": [
      "Figure saved at: D:\\NPIX\\NPIX1\\2023.11.10\\FIGURES\\raster_cs_ss\\0_437_259\n",
      "Figure saved at: D:\\NPIX\\NPIX1\\2023.11.10\\FIGURES\\raster_ss_lick\\0_437_259\n",
      "Figure saved at: D:\\NPIX\\NPIX1\\2023.11.10\\FIGURES\\raster_cs_lick\\0_437_259\n",
      "Figure saved at: D:\\NPIX\\NPIX1\\2023.11.10\\FIGURES\\raster_cs_ss\\1_246_260\n",
      "Figure saved at: D:\\NPIX\\NPIX1\\2023.11.10\\FIGURES\\raster_ss_lick\\1_246_260\n",
      "Figure saved at: D:\\NPIX\\NPIX1\\2023.11.10\\FIGURES\\raster_cs_lick\\1_246_260\n",
      "Figure saved at: D:\\NPIX\\NPIX1\\2023.11.10\\FIGURES\\raster_cs_ss\\2_445_444\n",
      "Figure saved at: D:\\NPIX\\NPIX1\\2023.11.10\\FIGURES\\raster_ss_lick\\2_445_444\n",
      "Figure saved at: D:\\NPIX\\NPIX1\\2023.11.10\\FIGURES\\raster_cs_lick\\2_445_444\n",
      "Figure saved at: D:\\NPIX\\NPIX1\\2023.11.10\\FIGURES\\raster_cs_ss\\3_522_443\n",
      "Figure saved at: D:\\NPIX\\NPIX1\\2023.11.10\\FIGURES\\raster_ss_lick\\3_522_443\n",
      "Figure saved at: D:\\NPIX\\NPIX1\\2023.11.10\\FIGURES\\raster_cs_lick\\3_522_443\n"
     ]
    }
   ],
   "source": [
    "raster_b = 25\n",
    "filter_length = 0.5 # in seconds\n",
    "behavior_package = ioutils.pload(os.path.join(processed_folder, 'behavior_package'))\n",
    "behavior_stim = behavior_package['stim']\n",
    "licks_per_stim = behavior_package['licks']\n",
    "\n",
    "\n",
    "for m, cs_ss in enumerate(matches):\n",
    "    cs, ss = cs_ss\n",
    "\n",
    "    # SS / CS plot\n",
    "    sf = os.path.join(fig_folder, 'raster_cs_ss')\n",
    "    f, axs = figutils.pretty_fig(figsize=(20, 12), rows=1, cols=len(stim_names))\n",
    "    for i, (k, event) in enumerate(stim_epochs_dict.items()):\n",
    "        ax = axs[i]\n",
    "        plt.sca(ax)\n",
    "\n",
    "        dat_per_cell = []\n",
    "        x_cs, y_cs, _, _ = phy_utils.get_processed_ifr(spike_trains_dict[cs], event, raster_b, psthw)\n",
    "        x_ss, y_ss, _, _ = phy_utils.get_processed_ifr(spike_trains_dict[ss], event, raster_b, psthw)\n",
    "        y_cs = y_cs * raster_b / 1e3 # convert form hertz to raw\n",
    "        temp = []\n",
    "        win = int(filter_length / (raster_b * 1e-3))\n",
    "        for sig in y_ss:\n",
    "            temp.append(savgol_filter(sig, polyorder=0, window_length=win))\n",
    "        y_ss = np.array(temp)\n",
    "\n",
    "        max = np.round(y_ss.max(), -1)\n",
    "        figutils.imagePanel(\n",
    "            ax=ax,\n",
    "            dffs=y_ss,\n",
    "            height_per_cell=0.5,\n",
    "            vmin=0,\n",
    "            vcenter=max//2,\n",
    "            vmax=max,\n",
    "            show=False,\n",
    "            cmap='gray_r'\n",
    "        )\n",
    "        ax.imshow(\n",
    "            np.ma.masked_where(y_cs == 0, y_cs),\n",
    "            # y_cs,\n",
    "            vmin=-1,\n",
    "            vmax=1,\n",
    "            cmap='bwr',\n",
    "            interpolation='none',\n",
    "            origin='upper',\n",
    "        )\n",
    "        plt.axis('tight')\n",
    "        sns.despine(bottom=True, left=True, fig=f, ax=ax)\n",
    "        if i == 0:\n",
    "            plt.yticks(np.arange(len(y_cs)));\n",
    "        else:\n",
    "            plt.yticks([])\n",
    "        # if i == len(stim_names)-1:\n",
    "        #     plt.colorbar()\n",
    "        plt.tight_layout()\n",
    "    figutils.save_fig(sf, f'{m}_{cs}_{ss}', close=True, show=False)\n",
    "\n",
    "    # SS / lick plot\n",
    "    sf = os.path.join(fig_folder, 'raster_ss_lick')\n",
    "    f, axs = figutils.pretty_fig(figsize=(20, 12), rows=1, cols=len(stim_names))\n",
    "    for i, (k, event) in enumerate(stim_epochs_dict.items()):\n",
    "        ax = axs[i]\n",
    "        plt.sca(ax)\n",
    "\n",
    "        dat_per_cell = []\n",
    "        x_cs, y_cs, _, _ = phy_utils.get_processed_ifr(spike_trains_dict[cs], event, raster_b, psthw)\n",
    "        x_ss, y_ss, _, _ = phy_utils.get_processed_ifr(spike_trains_dict[ss], event, raster_b, psthw)\n",
    "        y_cs = y_cs * raster_b / 1e3 # convert form hertz to raw\n",
    "        temp = []\n",
    "        win = int(filter_length / (raster_b * 1e-3))\n",
    "        for sig in y_ss:\n",
    "            temp.append(savgol_filter(sig, polyorder=0, window_length=win))\n",
    "        y_ss = np.array(temp)\n",
    "\n",
    "        max = np.round(y_ss.max(), -1)\n",
    "        figutils.imagePanel(\n",
    "            ax=ax,\n",
    "            dffs=y_ss,\n",
    "            height_per_cell=0.5,\n",
    "            vmin=0,\n",
    "            vcenter=max//2,\n",
    "            vmax=max,\n",
    "            show=False,\n",
    "            cmap='gray_r'\n",
    "        )\n",
    "\n",
    "        assert behavior_stim[i] == k\n",
    "        data = licks_per_stim[i]\n",
    "        ax.imshow(\n",
    "            np.ma.masked_where(data < 0.9, data),\n",
    "            vmin=-1,\n",
    "            vmax=1,\n",
    "            cmap='bwr',\n",
    "            interpolation='none',\n",
    "            origin='upper',\n",
    "            alpha=0.5\n",
    "        )\n",
    "        plt.axis('tight')\n",
    "        sns.despine(bottom=True, left=True, fig=f, ax=ax)\n",
    "        if i == 0:\n",
    "            plt.yticks(np.arange(len(y_cs)));\n",
    "        else:\n",
    "            plt.yticks([])\n",
    "        plt.tight_layout()\n",
    "    figutils.save_fig(sf, f'{m}_{cs}_{ss}', close=True, show=False)\n",
    "\n",
    "\n",
    "    # CS / lick plot\n",
    "    sf = os.path.join(fig_folder, 'raster_cs_lick')\n",
    "    f, axs = figutils.pretty_fig(figsize=(20, 12), rows=1, cols=len(stim_names))\n",
    "    for i, (k, event) in enumerate(stim_epochs_dict.items()):\n",
    "        ax = axs[i]\n",
    "        plt.sca(ax)\n",
    "\n",
    "        dat_per_cell = []\n",
    "        x_cs, y_cs, _, _ = phy_utils.get_processed_ifr(spike_trains_dict[cs], event, raster_b, psthw)\n",
    "        x_ss, y_ss, _, _ = phy_utils.get_processed_ifr(spike_trains_dict[ss], event, raster_b, psthw)\n",
    "        y_cs = y_cs * raster_b / 1e3 # convert form hertz to raw\n",
    "        temp = []\n",
    "        win = int(filter_length / (raster_b * 1e-3))\n",
    "        for sig in y_ss:\n",
    "            temp.append(savgol_filter(sig, polyorder=0, window_length=win))\n",
    "        y_ss = np.array(temp)\n",
    "\n",
    "        max = np.round(y_ss.max(), -1)\n",
    "\n",
    "        figutils.imagePanel(\n",
    "            ax=ax,\n",
    "            dffs=y_cs,\n",
    "            height_per_cell=0.5,\n",
    "            vmin=0,\n",
    "            vcenter=0.01,\n",
    "            vmax=1,\n",
    "            show=False,\n",
    "            cmap='gray_r'\n",
    "        )\n",
    "\n",
    "        data = licks_per_stim[i]\n",
    "        ax.imshow(\n",
    "            np.ma.masked_where(data < 0.9, data),\n",
    "            vmin=-1,\n",
    "            vmax=1,\n",
    "            cmap='bwr',\n",
    "            interpolation='none',\n",
    "            origin='upper',\n",
    "            alpha=0.5\n",
    "        )\n",
    "        plt.axis('tight')\n",
    "        sns.despine(bottom=True, left=True, fig=f, ax=ax)\n",
    "        if i == 0:\n",
    "            plt.yticks(np.arange(len(y_cs)));\n",
    "        else:\n",
    "            plt.yticks([])\n",
    "        plt.tight_layout()\n",
    "    figutils.save_fig(sf, f'{m}_{cs}_{ss}', close=True, show=False)"
   ],
   "metadata": {
    "collapsed": false
   }
  },
  {
   "cell_type": "code",
   "execution_count": 184,
   "outputs": [
    {
     "name": "stdout",
     "output_type": "stream",
     "text": [
      "(5, 15, 60)\n",
      "Figure saved at: D:\\NPIX\\NPIX1\\2023.11.08\\FIGURES\\psth_heatmaps\\ss_sort_by_depth\n",
      "Figure saved at: D:\\NPIX\\NPIX1\\2023.11.08\\FIGURES\\psth_heatmaps\\ss_sort_by_onset\n",
      "(5, 115, 60)\n",
      "Figure saved at: D:\\NPIX\\NPIX1\\2023.11.08\\FIGURES\\psth_heatmaps\\rest_sort_by_depth\n",
      "Figure saved at: D:\\NPIX\\NPIX1\\2023.11.08\\FIGURES\\psth_heatmaps\\rest_sort_by_onset\n"
     ]
    }
   ],
   "source": [
    "# make heatmaps\n",
    "filter_window = int(0.5 / (psthb * 1e-3))\n",
    "intervals = {'ss': 1, 'rest': 10}\n",
    "\n",
    "sf = os.path.join(fig_folder, 'psth_heatmaps')\n",
    "for celltype in ['ss', 'rest']:\n",
    "    dat_per_stim_per_cell = []\n",
    "    unit_ids = np.array(list(package['celltypes_parcellated_dict'][celltype].keys()))\n",
    "    trains = [spike_trains_dict[unit_id] for unit_id in unit_ids]\n",
    "    for k, event in stim_epochs_dict.items():\n",
    "        dat_per_cell = []\n",
    "        for train in trains:\n",
    "            x, ys, y_p, y_p_var = phy_utils.get_processed_ifr(\n",
    "                train, event, psthb, psthw,\n",
    "                bsl_subtract=False,\n",
    "                zscore=True,\n",
    "                zscoretype='across')\n",
    "            y_p = savgol_filter(y_p, window_length=filter_window, polyorder=0)\n",
    "            dat_per_cell.append(y_p)\n",
    "        dat_per_stim_per_cell.append(np.array(dat_per_cell))\n",
    "    dat_per_stim_per_cell = np.array(dat_per_stim_per_cell)\n",
    "    print(dat_per_stim_per_cell.shape)\n",
    "\n",
    "    ''' Sort by depth + plot'''\n",
    "    depth_dict = {k: v for k, v in zip(cluster_ids, cluster_depth)}\n",
    "    depths = np.array([depth_dict[k] for k in unit_ids])\n",
    "    sort_ixs = np.argsort(depths)[::-1] # from dorsal to ventral\n",
    "    depths = depths[sort_ixs]\n",
    "    unit_ids_sorted = unit_ids[sort_ixs]\n",
    "\n",
    "    interval = intervals[celltype]\n",
    "    yticks = np.arange(len(depths))[::interval]\n",
    "    yticklabels = [f'{d}, {u}' for d, u in zip(depths[::interval].astype(int), unit_ids_sorted[::interval])]\n",
    "    figutils.imagePanes(\n",
    "        figsize=(8, 6),\n",
    "        mats=dat_per_stim_per_cell[:, sort_ixs, :],\n",
    "        titles=stim_names,\n",
    "        vmin=-2.5,\n",
    "        vmax=2.5,\n",
    "        vcenter=0,\n",
    "        axargs={'xticks': times_in_bins, 'xticklabels': xticklabels,\n",
    "                'yticks': yticks, 'yticklabels': yticklabels\n",
    "                }\n",
    "    )\n",
    "    plt.suptitle('Responses by depth')\n",
    "    name = f'{celltype}_sort_by_depth'\n",
    "    figutils.save_fig(sf, name, show=False)\n",
    "\n",
    "    ''' Sort by responses + plot'''\n",
    "    sort_times = [5, 10]\n",
    "    sort_times_in_bins = np.array(sort_times) / (psthb * 1e-3)\n",
    "    sort_times_in_bins = sort_times_in_bins.astype(int)\n",
    "    sort_ixs = sort_utils.sortByOnset(\n",
    "        dat_per_stim_per_cell[:2],\n",
    "        on=sort_times_in_bins[0],\n",
    "        off=sort_times_in_bins[1],\n",
    "        thres=1,\n",
    "        n_thres=-1\n",
    "    )\n",
    "    figutils.imagePanes(\n",
    "        figsize=(8, 6),\n",
    "        mats=dat_per_stim_per_cell[:, sort_ixs, :],\n",
    "        titles=stim_names,\n",
    "        vmin=-2.5,\n",
    "        vmax=2.5,\n",
    "        vcenter=0,\n",
    "        axargs={'xticks': times_in_bins, 'xticklabels': xticklabels}\n",
    "    )\n",
    "    plt.suptitle('Responses by onset')\n",
    "    name = f'{celltype}_sort_by_onset'\n",
    "    figutils.save_fig(sf, name, show=False)"
   ],
   "metadata": {
    "collapsed": false
   }
  },
  {
   "cell_type": "code",
   "execution_count": 169,
   "outputs": [
    {
     "name": "stdout",
     "output_type": "stream",
     "text": [
      "Figure saved at: D:\\NPIX\\NPIX1\\2023.11.15\\FIGURES\\psth\\ss\\1_ss__63\n",
      "Figure saved at: D:\\NPIX\\NPIX1\\2023.11.15\\FIGURES\\psth\\ss\\1_ss__69\n",
      "Figure saved at: D:\\NPIX\\NPIX1\\2023.11.15\\FIGURES\\psth\\ss\\1_ss__114\n",
      "Figure saved at: D:\\NPIX\\NPIX1\\2023.11.15\\FIGURES\\psth\\ss\\1_ss__115\n",
      "Figure saved at: D:\\NPIX\\NPIX1\\2023.11.15\\FIGURES\\psth\\ss\\2_ss__274\n",
      "Figure saved at: D:\\NPIX\\NPIX1\\2023.11.15\\FIGURES\\psth\\ss\\2_ss__288\n",
      "Figure saved at: D:\\NPIX\\NPIX1\\2023.11.15\\FIGURES\\psth\\ss\\2_ss__290\n",
      "Figure saved at: D:\\NPIX\\NPIX1\\2023.11.15\\FIGURES\\psth\\cs\\cs__257\n",
      "Figure saved at: D:\\NPIX\\NPIX1\\2023.11.15\\FIGURES\\psth\\cs\\cs__285\n",
      "Figure saved at: D:\\NPIX\\NPIX1\\2023.11.15\\FIGURES\\psth\\mli\\1_mli__119\n",
      "Figure saved at: D:\\NPIX\\NPIX1\\2023.11.15\\FIGURES\\psth\\mli\\1_mli__124\n"
     ]
    }
   ],
   "source": [
    "# specified celltypes\n",
    "celltypes = ['ss', 'cs', 'mli']\n",
    "psthbs = [psthb, psthb_cs, psthb]\n",
    "for b, celltype in zip(psthbs, celltypes):\n",
    "    save_folder = os.path.join(fig_folder, 'psth', celltype)\n",
    "    os.makedirs(save_folder, exist_ok=True)\n",
    "\n",
    "    unit_ids = list(package['celltypes_parcellated_dict'][celltype].keys())\n",
    "    unit_names = list(package['celltypes_parcellated_dict'][celltype].values())\n",
    "    for unit_id, unit_name in zip(unit_ids, unit_names):\n",
    "        train = [spike_trains_dict[unit_id]]\n",
    "        psth_dict = {}\n",
    "        for e, event in enumerate(stim_trial_times):\n",
    "            x, ys, y_p, y_p_var = phy_utils.get_processed_ifr(train, event, b, psthw)\n",
    "            psth_dict[0, e] = [x, y_p, y_p_var]\n",
    "\n",
    "        psth_utils.make_psth(psth_dict,\n",
    "                             psthw,\n",
    "                             [unit_id],\n",
    "                             stim_names,\n",
    "                             xticks=xticks,\n",
    "                             xticklabels=xticklabels,\n",
    "                             ylabel=ylabel,\n",
    "                             xlabel=xlabel,\n",
    "                             colors=stim_colors)\n",
    "        figutils.save_fig(save_folder, figname=f'{unit_name}__{unit_id}', close=True, show=False)"
   ],
   "metadata": {
    "collapsed": false
   }
  },
  {
   "cell_type": "code",
   "execution_count": 170,
   "outputs": [
    {
     "name": "stdout",
     "output_type": "stream",
     "text": [
      "Figure saved at: D:\\NPIX\\NPIX1\\2023.11.15\\FIGURES\\psth\\ss_cliques\\1_ss_4\n",
      "Figure saved at: D:\\NPIX\\NPIX1\\2023.11.15\\FIGURES\\psth\\ss_cliques\\2_ss_3\n"
     ]
    }
   ],
   "source": [
    "# SS cliques\n",
    "psth_folder = os.path.join(fig_folder, 'psth', 'ss_cliques')\n",
    "os.makedirs(psth_folder, exist_ok=True)\n",
    "\n",
    "clique_dict = defaultdict(list)\n",
    "for unit_id, clique in package['celltypes_parcellated_dict']['_ss'].items():\n",
    "    clique_dict[clique].append(unit_id)\n",
    "\n",
    "for clique_name, unit_ids in clique_dict.items():\n",
    "    trains = [spike_trains_dict[x] for x in unit_ids]\n",
    "    psth_dict = {}\n",
    "    for t, train in enumerate(trains):\n",
    "        for e, event in enumerate(stim_trial_times):\n",
    "            x, ys, y_p, y_p_var = phy_utils.get_processed_ifr(train, event, psthb, psthw)\n",
    "            psth_dict[t, e] = [x, y_p, y_p_var]\n",
    "\n",
    "    psth_utils.make_psth(psth_dict,\n",
    "                         psthw,\n",
    "                         unit_ids,\n",
    "                         stim_names,\n",
    "                         xticks=xticks,\n",
    "                         xticklabels=xticklabels,\n",
    "                         ylabel=ylabel,\n",
    "                         xlabel=xlabel,\n",
    "                         colors=stim_colors)\n",
    "\n",
    "    name = f'{clique_name}_{len(unit_ids)}'\n",
    "    figutils.save_fig(psth_folder, figname=name, close=True, show=False)"
   ],
   "metadata": {
    "collapsed": false
   }
  },
  {
   "cell_type": "code",
   "execution_count": 171,
   "outputs": [
    {
     "name": "stdout",
     "output_type": "stream",
     "text": [
      "Figure saved at: D:\\NPIX\\NPIX1\\2023.11.15\\FIGURES\\psth\\matches\\match_0__cs_257_ss_274\n",
      "Figure saved at: D:\\NPIX\\NPIX1\\2023.11.15\\FIGURES\\psth\\matches\\match_1__cs_285_ss_288\n"
     ]
    }
   ],
   "source": [
    "# matches\n",
    "psth_folder = os.path.join(fig_folder, 'psth', 'matches')\n",
    "os.makedirs(psth_folder, exist_ok=True)\n",
    "\n",
    "for match_ix in range(matches.shape[0]):\n",
    "    unit_names = matches[match_ix]\n",
    "    trains = [spike_trains_dict[x] for x in unit_names]\n",
    "\n",
    "    psth_dict = {}\n",
    "    for t, train in enumerate(trains):\n",
    "        for e, event in enumerate(stim_trial_times):\n",
    "            b = psthb_cs if t == 0 else psthb\n",
    "            x, ys, y_p, y_p_var = phy_utils.get_processed_ifr(train, event, b, psthw)\n",
    "            psth_dict[t, e] = [x, y_p, y_p_var]\n",
    "\n",
    "    psth_utils.make_psth(psth_dict,\n",
    "                         psthw,\n",
    "                         unit_names,\n",
    "                         stim_names,\n",
    "                         xticks=xticks,\n",
    "                         xticklabels=xticklabels,\n",
    "                         ylabel=ylabel,\n",
    "                         xlabel=xlabel,\n",
    "                         colors=stim_colors)\n",
    "\n",
    "    name = f'match_{match_ix}__cs_{unit_names[0]}_ss_{unit_names[1]}'\n",
    "    figutils.save_fig(psth_folder, figname=name, close=True, show=False)"
   ],
   "metadata": {
    "collapsed": false
   }
  },
  {
   "cell_type": "code",
   "execution_count": 172,
   "outputs": [
    {
     "data": {
      "text/plain": "'\\nTODOS:\\n\\n- raster plot SS rate and CS occurrences\\n\\n- do for all days\\n'"
     },
     "execution_count": 172,
     "metadata": {},
     "output_type": "execute_result"
    }
   ],
   "source": [],
   "metadata": {
    "collapsed": false
   }
  }
 ],
 "metadata": {
  "kernelspec": {
   "display_name": "Python 3",
   "language": "python",
   "name": "python3"
  },
  "language_info": {
   "codemirror_mode": {
    "name": "ipython",
    "version": 2
   },
   "file_extension": ".py",
   "mimetype": "text/x-python",
   "name": "python",
   "nbconvert_exporter": "python",
   "pygments_lexer": "ipython2",
   "version": "2.7.6"
  }
 },
 "nbformat": 4,
 "nbformat_minor": 0
}
