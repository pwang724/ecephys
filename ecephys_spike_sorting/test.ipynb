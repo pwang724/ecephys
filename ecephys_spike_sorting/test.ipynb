{
 "cells": [
  {
   "cell_type": "code",
   "execution_count": 1,
   "outputs": [
    {
     "name": "stdout",
     "output_type": "stream",
     "text": [
      "cupy could not be imported - some functions dealing with the binary file (filtering, whitening...) will not work.\n",
      "\n",
      "\u001B[32;1mnpyx version 3.0.2 imported.\u001B[0m\n"
     ]
    }
   ],
   "source": [
    "%load_ext autoreload\n",
    "%autoreload 2\n",
    "\n",
    "import os\n",
    "import sys\n",
    "import glob\n",
    "from pathlib import Path\n",
    "import matplotlib.pyplot as plt\n",
    "from matplotlib import rcParams\n",
    "import numpy as np\n",
    "import seaborn as sns\n",
    "import tqdm\n",
    "import npyx\n",
    "from npyx.gl import get_units\n",
    "from npyx.spk_t import trn\n",
    "from npyx.corr import ccg\n",
    "import pandas as pd\n",
    "from collections import defaultdict\n",
    "\n",
    "from utils import figutils\n",
    "from utils import styleutils\n",
    "\n",
    "sns.reset_defaults()\n",
    "styleutils.update_mpl_params(fontsize=7, linewidth=1)\n",
    "%matplotlib inline"
   ],
   "metadata": {
    "collapsed": false
   }
  },
  {
   "cell_type": "code",
   "execution_count": 2,
   "outputs": [
    {
     "name": "stdout",
     "output_type": "stream",
     "text": [
      "D:\\NPIX\\NPIX1\\2023.09.14\\catgt_npx1_shank4_20230914_g0\\npx1_shank4_20230914_g0_imec0\\imec0_ks2\n",
      "N good cells: 506, N total cells: 609\n",
      "N SS clusters: 25, N CS clusters: 345\n"
     ]
    },
    {
     "name": "stderr",
     "output_type": "stream",
     "text": [
      "100%|██████████| 25/25 [00:00<00:00, 19271.75it/s]\n"
     ]
    },
    {
     "name": "stdout",
     "output_type": "stream",
     "text": [
      "N pairs to compute: 479\n"
     ]
    },
    {
     "name": "stderr",
     "output_type": "stream",
     "text": [
      "100%|██████████| 25/25 [02:20<00:00,  5.61s/it]\n"
     ]
    },
    {
     "name": "stdout",
     "output_type": "stream",
     "text": [
      "defaultdict(<class 'list'>, {144: [[146, 0.22556390977443608]], 150: [[153, 0.3647416413373861]], 151: [[153, 0.41860465116279066]], 162: [[153, 0.4368932038834952]], 296: [[295, 0.14728532922603002], [308, 0.19526627218934908], [310, 0.11673151750972764], [315, 0.10919845302191551], [316, 0.10693539869741239], [323, 0.11054041983028139], [324, 0.11250000000000002]], 300: [[285, 0.4761904761904762]], 314: [[310, 0.4444444444444445], [320, 0.0], [321, 0.056675062972292196], [324, 0.3846153846153846]], 345: [[339, 0.11655566127497623], [342, 0.10089686098654711], [348, 0.3936242589172903]], 346: [[337, 0.15513897866839046], [338, 0.017019207391198637], [339, 0.20482809070958305], [342, 0.17391304347826086]], 347: [[339, 0.1668211306765524], [342, 0.18404907975460122]], 350: [[369, 0.4452054794520548], [370, 0.4646017699115044]], 373: [[370, 0.4861111111111111]], 512: [[483, 0.31512605042016806], [485, 0.44139008715555944], [509, 0.16853932584269665], [511, 0.3081347576006574], [518, 0.44339622641509446], [520, 0.3945046634736576]], 530: [[509, 0.29801324503311255]], 553: [[514, 0.4411764705882353], [533, 0.47826086956521735], [557, 0.21897810218978103], [558, 0.40178571428571436], [567, 0.40178571428571425]], 608: [[547, 0.4780876494023904], [584, 0.47489488003957453], [633, 0.4270462633451957], [656, 0.4873646209386283]]})\n"
     ]
    },
    {
     "data": {
      "text/plain": "<Figure size 1200x200 with 4 Axes>",
      "image/png": "[encoded data removed]"
     },
     "metadata": {},
     "output_type": "display_data"
    }
   ],
   "source": [
    "BASE_PATH = R'D:\\NPIX'\n",
    "\n",
    "dps = [\n",
    "    # r'D:\\NPIX\\NPIX1\\2023.08.23\\catgt_pw1_20230823_shank3_bot_g0\\pw1_20230823_shank3_bot_g0_imec0\\imec0_ks2',\n",
    "    # r'D:\\NPIX\\NPIX1\\2023.08.23\\catgt_pw1_20230823_shank2_bot_g0\\pw1_20230823_shank2_bot_g0_imec0\\imec0_ks2',\n",
    "    # r'D:\\NPIX\\NPIX1\\2023.08.23\\catgt_pw1_20230823_shank1_bot_g0\\pw1_20230823_shank1_bot_g0_imec0\\imec0_ks2',\n",
    "    # r'E:\\NPIX\\NPIX1\\2023.08.23\\catgt_pw1_20230823_shank4_bot_g1_ks2\\pw1_20230823_shank4_bot_g1_imec0\\imec0_ks2',\n",
    "    # r'E:\\NPIX\\NPIX1\\2023.08.23\\catgt_pw1_20230823_shank4_bot_g1_ks25\\pw1_20230823_shank4_bot_g1_imec0\\imec0_ks2',\n",
    "    # r'E:\\NPIX\\NPIX1\\2023.08.23\\catgt_pw1_20230823_shank4_bot_g1_ks3\\pw1_20230823_shank4_bot_g1_imec0\\imec0_ks2',\n",
    "    # r'E:\\NPIX\\NPIX1\\2023.09.13\\catgt_npx1_shank4_20230913_g0\\npx1_shank4_20230913_g0_imec0\\imec0_ks2',\n",
    "    # r'E:\\NPIX\\NPIX1\\2023.09.14\\catgt_npx1_shank4_20230914_g0\\npx1_shank4_20230914_g0_imec0\\imec0_ks2',\n",
    "    # r'E:\\NPIX\\NPIX1\\2023.09.15\\catgt_npx1_shank3_g0\\npx1_shank3_g0_imec0\\imec0_ks2',\n",
    "    # r'E:\\NPIX\\NPIX1\\2023.09.15\\catgt_npx1_shank2_g0\\npx1_shank2_g0_imec0\\imec0_ks2',\n",
    "    # r'E:\\NPIX\\NPIX1\\2023.09.15\\catgt_npx1_shank1_g0\\npx1_shank1_g0_imec0\\imec0_ks2',\n",
    "    # r'E:\\NPIX\\NPIX1\\2023.10.08\\catgt_2023_10_08_shank4_g0\\2023_10_08_shank4_g0_imec0\\imec0_ks2',\n",
    "    # r'E:\\NPIX\\NPIX1\\2023.10.09\\catgt_s4_g0\\s4_g0_imec0\\imec0_ks2',\n",
    "\n",
    "    os.path.join(BASE_PATH, r'NPIX1\\2023.09.14\\catgt_npx1_shank4_20230914_g0\\npx1_shank4_20230914_g0_imec0\\imec0_ks2'),\n",
    "]\n",
    "\n",
    "for dp in dps:\n",
    "    print(dp)\n",
    "    metrics = pd.read_csv(os.path.join(dp, 'metrics.csv'))\n",
    "    metrics.head()\n",
    "\n",
    "    # (KW, logx, logy)\n",
    "    to_plot = [\n",
    "        ('firing_rate', True, False),\n",
    "        ('isi_viol', False, False),\n",
    "        ('presence_ratio', False, False),\n",
    "        ('amplitude_cutoff', False, False),\n",
    "    ]\n",
    "\n",
    "    f, axs = figutils.pretty_fig(figsize=(3 * len(to_plot), 2), rows=1, cols=len(to_plot))\n",
    "    for i, tup in enumerate(to_plot):\n",
    "        plt.sca(axs[i])\n",
    "        metric = tup[0]\n",
    "        logx = tup[1]\n",
    "        logy = tup[2]\n",
    "\n",
    "        data = metrics[metric]\n",
    "        if logx:\n",
    "            data = np.log10(data + 0.00001)\n",
    "        plt.hist(data, log=logy)\n",
    "        sns.despine()\n",
    "        if logx:\n",
    "            xlabel = 'log ' + metric\n",
    "        else:\n",
    "            xlabel = metric\n",
    "        plt.xlabel(xlabel)\n",
    "    plt.tight_layout()\n",
    "\n",
    "\n",
    "    criteria = np.array([\n",
    "        metrics['firing_rate'] > 0.01,\n",
    "        # metrics['isi_viol'] < 0.5,\n",
    "        # metrics['presence_ratio'] > 0.7,\n",
    "        metrics['amplitude_cutoff'] < 0.05,\n",
    "    ])\n",
    "\n",
    "    good_mask = np.all(criteria, axis=0)\n",
    "    metrics['QC'] = good_mask\n",
    "    metrics.to_csv(os.path.join(dp, 'metrics.csv'), index=False)\n",
    "    print(f'N good cells: {good_mask.sum()}, N total cells: {len(good_mask)}')\n",
    "\n",
    "    meta = npyx.read_metadata(dp)\n",
    "    recording_s = meta['recording_length_seconds']\n",
    "    samp_rate = meta['highpass']['sampling_rate']\n",
    "\n",
    "    chan_map = np.array(np.load(os.path.join(dp, 'channel_map.npy'))).flatten()\n",
    "    chan_pos = np.load(os.path.join(dp, 'channel_positions.npy'))\n",
    "    pos_x = chan_pos[:, 0]\n",
    "    pos_y = chan_pos[:, 1]\n",
    "    # assert np.array_equal(chan_map, np.arange(len(chan_map)))\n",
    "\n",
    "    depths = []\n",
    "    for chan in metrics['peak_channel']:\n",
    "        ix = np.argwhere(chan == chan_map)[0][0]\n",
    "        depths.append(pos_y[ix])\n",
    "    depths = np.array(depths)\n",
    "\n",
    "    metrics['depth'] = depths\n",
    "    cluster_ids = metrics['cluster_id'].to_numpy()\n",
    "\n",
    "    # calculate probe adjacency matrix\n",
    "    adjacency_threshold = 80 #um\n",
    "    adjacencies = {}\n",
    "    for id, depth in zip(cluster_ids, depths):\n",
    "        within_reach = np.logical_and(depth + adjacency_threshold > depths, depth - adjacency_threshold < depths)\n",
    "        adjacencies[id] = cluster_ids[within_reach]\n",
    "\n",
    "    # putative SS clusters\n",
    "    criteria = np.array([\n",
    "        metrics['firing_rate'].to_numpy() > 30,\n",
    "        metrics['QC']\n",
    "    ])\n",
    "    good_mask = np.all(criteria, axis=0)\n",
    "    ss_cluster_ids = cluster_ids[good_mask]\n",
    "\n",
    "    # putative CS clusters\n",
    "    criteria = np.array([\n",
    "        metrics['firing_rate'].to_numpy() < 5,\n",
    "        metrics['QC']\n",
    "    ])\n",
    "    good_mask = np.all(criteria, axis=0)\n",
    "    cs_cluster_ids = cluster_ids[good_mask]\n",
    "\n",
    "    print(f'N SS clusters: {len(ss_cluster_ids)}, N CS clusters: {len(cs_cluster_ids)}')\n",
    "\n",
    "    bin_size = 1\n",
    "    win_size = 80\n",
    "\n",
    "    sum = 0\n",
    "    cc_dict = {}\n",
    "    for ss in tqdm.tqdm(ss_cluster_ids):\n",
    "        valid_cs = np.intersect1d(adjacencies[ss], cs_cluster_ids)\n",
    "        cc_dict[ss] = list(valid_cs)\n",
    "        sum += len(valid_cs)\n",
    "    print(f'N pairs to compute: {sum}')\n",
    "\n",
    "    from scipy.signal import savgol_filter\n",
    "    win_size = 80\n",
    "    bin_size = 1\n",
    "\n",
    "    pairs = defaultdict(list)\n",
    "    for ss, css in tqdm.tqdm(cc_dict.items()):\n",
    "        for cs in css:\n",
    "            # try:\n",
    "            c = ccg(dp, [cs, ss], bin_size=bin_size, win_size=win_size, normalize='Hertz')\n",
    "            cc = c[0, 1]\n",
    "            cc = savgol_filter(cc, window_length=3, polyorder=0)\n",
    "            middle = int(1+win_size/2)\n",
    "            s = 5\n",
    "            e = 20\n",
    "            metric = np.min(cc[middle+s:middle+e]) / np.mean(cc[middle-e:middle-s])\n",
    "            if metric < 0.5:\n",
    "                pairs[ss].append([cs, metric])\n",
    "            # except:\n",
    "            #     print(cs, ss)\n",
    "    print(pairs)\n"
   ],
   "metadata": {
    "collapsed": false
   }
  },
  {
   "cell_type": "code",
   "execution_count": 3,
   "outputs": [
    {
     "data": {
      "text/plain": "defaultdict(list,\n            {144: [[146, 0.22556390977443608]],\n             150: [[153, 0.3647416413373861]],\n             151: [[153, 0.41860465116279066]],\n             162: [[153, 0.4368932038834952]],\n             296: [[295, 0.14728532922603002],\n              [308, 0.19526627218934908],\n              [310, 0.11673151750972764],\n              [315, 0.10919845302191551],\n              [316, 0.10693539869741239],\n              [323, 0.11054041983028139],\n              [324, 0.11250000000000002]],\n             300: [[285, 0.4761904761904762]],\n             314: [[310, 0.4444444444444445],\n              [320, 0.0],\n              [321, 0.056675062972292196],\n              [324, 0.3846153846153846]],\n             345: [[339, 0.11655566127497623],\n              [342, 0.10089686098654711],\n              [348, 0.3936242589172903]],\n             346: [[337, 0.15513897866839046],\n              [338, 0.017019207391198637],\n              [339, 0.20482809070958305],\n              [342, 0.17391304347826086]],\n             347: [[339, 0.1668211306765524], [342, 0.18404907975460122]],\n             350: [[369, 0.4452054794520548], [370, 0.4646017699115044]],\n             373: [[370, 0.4861111111111111]],\n             512: [[483, 0.31512605042016806],\n              [485, 0.44139008715555944],\n              [509, 0.16853932584269665],\n              [511, 0.3081347576006574],\n              [518, 0.44339622641509446],\n              [520, 0.3945046634736576]],\n             530: [[509, 0.29801324503311255]],\n             553: [[514, 0.4411764705882353],\n              [533, 0.47826086956521735],\n              [557, 0.21897810218978103],\n              [558, 0.40178571428571436],\n              [567, 0.40178571428571425]],\n             608: [[547, 0.4780876494023904],\n              [584, 0.47489488003957453],\n              [633, 0.4270462633451957],\n              [656, 0.4873646209386283]]})"
     },
     "execution_count": 3,
     "metadata": {},
     "output_type": "execute_result"
    }
   ],
   "source": [
    "pairs"
   ],
   "metadata": {
    "collapsed": false
   }
  },
  {
   "cell_type": "code",
   "execution_count": 56,
   "outputs": [
    {
     "data": {
      "text/plain": "Text(0.5, 1.0, '0.004689698296076286')"
     },
     "execution_count": 56,
     "metadata": {},
     "output_type": "execute_result"
    },
    {
     "data": {
      "text/plain": "<Figure size 640x480 with 1 Axes>",
      "image/png": "[encoded data removed]"
     },
     "metadata": {},
     "output_type": "display_data"
    }
   ],
   "source": [
    "ss = 36\n",
    "cs = 37\n",
    "\n",
    "c = ccg(dp, [cs, ss], bin_size=bin_size, win_size=win_size, normalize='Hertz')\n",
    "if ss != cs:\n",
    "    cc = c[0, 1]\n",
    "else:\n",
    "    cc = c.flatten()\n",
    "cc = savgol_filter(cc, window_length=3, polyorder=0)\n",
    "middle = int(1+win_size/2)\n",
    "s = 5\n",
    "e = 20\n",
    "metric = np.min(cc[middle+s:middle+e]) / np.mean(cc[middle-e:middle-s])\n",
    "plt.plot(cc)\n",
    "plt.title(metric)"
   ],
   "metadata": {
    "collapsed": false
   }
  },
  {
   "cell_type": "code",
   "execution_count": null,
   "outputs": [],
   "source": [
    "# calculate cv\n",
    "dp = r'D:\\NPIX\\NPIX1\\2023.08.23\\catgt_pw1_20230823_shank4_bot_g1\\pw1_20230823_shank4_bot_g1_imec0\\imec0_ks2'\n",
    "trn_dict = {}\n",
    "for id in tqdm.tqdm(ss_cluster_ids):\n",
    "    trn_dict[id] = npyx.trn(dp, id)\n",
    "    isi_ms = np.diff(trn_dict[id]) / samp_rate * 1000\n",
    "    m = np.mean(isi_ms)\n",
    "    std = np.std(isi_ms)\n",
    "    cv = std / m\n",
    "    cv2 = np.square(cv)\n",
    "    if cv2 < 0.2:\n",
    "        print(id, cv2)\n",
    "\n",
    "    isi_ms = np.diff(trn_dict[id]) / samp_rate * 1000\n",
    "    median_isi = np.median(isi_ms)\n",
    "    mad = np.median(isi_ms - median_isi)\n",
    "    # print(id, mad)\n"
   ],
   "metadata": {
    "collapsed": false
   }
  },
  {
   "cell_type": "code",
   "execution_count": 19,
   "outputs": [
    {
     "name": "stdout",
     "output_type": "stream",
     "text": [
      "0.21883289124668429\n"
     ]
    },
    {
     "data": {
      "text/plain": "<Figure size 640x480 with 1 Axes>",
      "image/png": "[encoded data removed]"
     },
     "metadata": {},
     "output_type": "display_data"
    }
   ],
   "source": [
    "cs = 252\n",
    "ss = 269\n",
    "c = ccg(dp, [cs, ss], bin_size=bin_size, win_size=win_size, normalize='Hertz')\n",
    "cc = c[0, 1]\n",
    "cc = savgol_filter(cc, window_length=3, polyorder=0)\n",
    "middle = int(1+win_size/2)\n",
    "s = 5\n",
    "e = 20\n",
    "metric = np.min(cc[middle+s:middle+e]) / np.mean(cc[middle-e:middle-s])\n",
    "plt.plot(cc)\n",
    "print(metric)"
   ],
   "metadata": {
    "collapsed": false
   }
  },
  {
   "cell_type": "code",
   "execution_count": null,
   "outputs": [],
   "source": [
    "1/0"
   ],
   "metadata": {
    "collapsed": false
   }
  },
  {
   "cell_type": "code",
   "execution_count": null,
   "outputs": [],
   "source": [
    "# fig_path = os.path.join(dp, 'FIGURES')\n",
    "# cols = 4\n",
    "# for ss, css in tqdm.tqdm(cc_dict.items()):\n",
    "#     n_cs = len(css)\n",
    "#     if n_cs == 0:\n",
    "#         continue\n",
    "#\n",
    "#     rows = np.ceil(n_cs / cols).astype(int)\n",
    "#     f, axs = figutils.pretty_fig(\n",
    "#         figsize=(12, rows*3),\n",
    "#         rows=rows,\n",
    "#         cols=cols,\n",
    "#         sharex=True,\n",
    "#         sharey=True,\n",
    "#         rect=(0.25, 0.25, 0.6, 0.6))\n",
    "#     for i, cs in enumerate(css):\n",
    "#         if rows == 1:\n",
    "#             plt.sca(axs[i])\n",
    "#         else:\n",
    "#             plt.sca(axs[i//cols, i%cols])\n",
    "#\n",
    "#         c = ccg(dp, [cs, ss], bin_size=bin_size, win_size=win_size, normalize='Hertz')\n",
    "#         x = np.linspace(-win_size/2, win_size/2, int(win_size/bin_size)+1)\n",
    "#\n",
    "#         plt.plot(x, c[1, 1], label='SS(0)', color='k')\n",
    "#\n",
    "#         y = c[0, 1]\n",
    "#         if np.max(y) < 300:\n",
    "#             plt.plot(x, y, label='CS(0)', color='r')\n",
    "#         plt.legend(loc='lower left')\n",
    "#         plt.title(f'SS: {ss}, CS: {cs}')\n",
    "#\n",
    "#     if rows == 1:\n",
    "#         plt.sca(axs[0])\n",
    "#     else:\n",
    "#         plt.sca(axs[0, 0])\n",
    "#     plt.xticks([-win_size/2, -2, 2, win_size/2], [-win_size/2, '', '', win_size/2])\n",
    "#     plt.tight_layout()\n",
    "#     plt.xlabel('Time (ms)')\n",
    "#     plt.ylabel('Firing rate (Hz)')\n",
    "#     figutils.save_fig(fig_path, f'{ss}', pdf=False, show=False, close=True, verbose=False, transparent=False)"
   ],
   "metadata": {
    "collapsed": false
   }
  },
  {
   "cell_type": "code",
   "execution_count": null,
   "outputs": [],
   "source": [
    "# # my own code: doesn't work well if there are too many spikes\n",
    "# unit_ids = get_units(dp, quality='all')\n",
    "# spike_trains = []\n",
    "# for u in tqdm.tqdm(unit_ids):\n",
    "#     t = trn(dp, u)\n",
    "#     spike_trains.append(t)\n",
    "\n",
    "\n",
    "# bounds = 40 # in ms\n",
    "# bounds_in_samps = int(bounds * samp_rate / 1000)\n",
    "#\n",
    "# tcs = trn(dp, 1).astype(int)\n",
    "# tss = trn(dp, 86).astype(int)\n",
    "#\n",
    "# cs0 = []\n",
    "# for cs in tcs:\n",
    "#     temp = tss - cs\n",
    "#     temp = temp[np.logical_and(temp<bounds_in_samps, temp>-bounds_in_samps)]\n",
    "#     temp = temp[temp != 0]\n",
    "#     cs0.append(temp)\n",
    "# cs0_flattened = [x for y in cs0 for x in y]\n",
    "# y, x = np.histogram(cs0_flattened, bins=bounds*2, range=[-bounds_in_samps, bounds_in_samps])\n",
    "# x = x / (samp_rate / 1000) # convert to ms\n",
    "# y = y * 1000 / len(tcs) # convert to hz\n",
    "#\n",
    "# plt.plot(x[:-1], y)\n",
    "# plt.xlabel('Time (ms)')\n",
    "# plt.ylabel('Firing rate (Hz)')\n"
   ],
   "metadata": {
    "collapsed": false
   }
  }
 ],
 "metadata": {
  "kernelspec": {
   "display_name": "Python 3",
   "language": "python",
   "name": "python3"
  },
  "language_info": {
   "codemirror_mode": {
    "name": "ipython",
    "version": 2
   },
   "file_extension": ".py",
   "mimetype": "text/x-python",
   "name": "python",
   "nbconvert_exporter": "python",
   "pygments_lexer": "ipython2",
   "version": "2.7.6"
  }
 },
 "nbformat": 4,
 "nbformat_minor": 0
}
