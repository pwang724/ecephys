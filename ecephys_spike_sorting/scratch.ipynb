{
 "cells": [
  {
   "cell_type": "code",
   "execution_count": null,
   "metadata": {
    "collapsed": true
   },
   "outputs": [],
   "source": [
    "# calculate cv\n",
    "dp = r'D:\\NPIX\\NPIX1\\2023.08.23\\catgt_pw1_20230823_shank4_bot_g1\\pw1_20230823_shank4_bot_g1_imec0\\imec0_ks2'\n",
    "trn_dict = {}\n",
    "for id in tqdm.tqdm(ss_cluster_ids):\n",
    "    trn_dict[id] = npyx.trn(dp, id)\n",
    "    isi_ms = np.diff(trn_dict[id]) / samp_rate * 1000\n",
    "    m = np.mean(isi_ms)\n",
    "    std = np.std(isi_ms)\n",
    "    cv = std / m\n",
    "    cv2 = np.square(cv)\n",
    "    if cv2 < 0.2:\n",
    "        print(id, cv2)\n",
    "\n",
    "    isi_ms = np.diff(trn_dict[id]) / samp_rate * 1000\n",
    "    median_isi = np.median(isi_ms)\n",
    "    mad = np.median(isi_ms - median_isi)\n",
    "    # print(id, mad)\n"
   ]
  },
  {
   "cell_type": "code",
   "execution_count": null,
   "outputs": [],
   "source": [],
   "metadata": {
    "collapsed": false
   }
  }
 ],
 "metadata": {
  "kernelspec": {
   "display_name": "Python 3",
   "language": "python",
   "name": "python3"
  },
  "language_info": {
   "codemirror_mode": {
    "name": "ipython",
    "version": 2
   },
   "file_extension": ".py",
   "mimetype": "text/x-python",
   "name": "python",
   "nbconvert_exporter": "python",
   "pygments_lexer": "ipython2",
   "version": "2.7.6"
  }
 },
 "nbformat": 4,
 "nbformat_minor": 0
}
